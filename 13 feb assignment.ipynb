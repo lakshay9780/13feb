{
 "cells": [
  {
   "cell_type": "markdown",
   "id": "6c0ad6c7-f083-4d9c-90e7-8127a811d36e",
   "metadata": {},
   "source": [
    "# 13 feb assignment"
   ]
  },
  {
   "cell_type": "markdown",
   "id": "5dbd1b12-3b3c-4faa-97e1-8f0149bd225c",
   "metadata": {},
   "source": [
    "# Answer-1"
   ]
  },
  {
   "cell_type": "code",
   "execution_count": null,
   "id": "10ac9a36-f6c4-4477-be4c-b2861567b10f",
   "metadata": {},
   "outputs": [],
   "source": [
    "When creating a custom exception in python, we use the Exception class to derive our own exception class. This is known as a custom exception\n",
    "or user-defined exception.\n",
    "\n",
    "Custom exceptions are used to customize the exception according to user needs. We can create our own exception and message using custom exceptions.\n",
    "For example, we can create a custom exception named WrongFileNameException that extends the Exception class 1.\n",
    "\n",
    "We use custom exceptions for the following reasons:\n",
    "\n",
    "To catch and provide specific treatment to a subset of existing Java exceptions.\n",
    "Business logic exceptions: These are the exceptions related to business logic and workflow. It is useful for the application users or the \n",
    "developers to understand the exact problem"
   ]
  },
  {
   "cell_type": "markdown",
   "id": "4af9b64e-4362-4ff6-b42c-b7238c2a1628",
   "metadata": {},
   "source": [
    "# Answer-2"
   ]
  },
  {
   "cell_type": "code",
   "execution_count": 1,
   "id": "5c79ebae-48aa-4d8d-a28e-a867812b0fdd",
   "metadata": {},
   "outputs": [
    {
     "name": "stdout",
     "output_type": "stream",
     "text": [
      "Python Exception Hierarchy:\n",
      "Exception\n",
      "  BaseException\n",
      "    object\n"
     ]
    }
   ],
   "source": [
    "def print_exception_hierarchy(exception_class, level=0):\n",
    "    indent = \"  \" * level\n",
    "    print(f\"{indent}{exception_class.__name__}\")\n",
    "\n",
    "    for sub_exception_class in exception_class.__bases__:\n",
    "        print_exception_hierarchy(sub_exception_class, level + 1)\n",
    "\n",
    "if __name__ == \"__main__\":\n",
    "    # Print the Python Exception Hierarchy\n",
    "    print(\"Python Exception Hierarchy:\")\n",
    "    print_exception_hierarchy(Exception)\n"
   ]
  },
  {
   "cell_type": "markdown",
   "id": "d1a0bcf8-fa34-4d0b-98a7-e6a8622b12e2",
   "metadata": {},
   "source": [
    "# Answer-3"
   ]
  },
  {
   "cell_type": "code",
   "execution_count": 4,
   "id": "fb673230-adb0-463a-b703-19c007b5a951",
   "metadata": {},
   "outputs": [
    {
     "name": "stdout",
     "output_type": "stream",
     "text": [
      "division by zero\n",
      "5.0\n",
      "25.0\n",
      "15625.0\n",
      "5.960464477539062e+16\n",
      "7.52316384526264e+83\n",
      "(34, 'Numerical result out of range')\n"
     ]
    }
   ],
   "source": [
    "# The errors defined in ArithmeticError class are:-\n",
    "# 1. OverFlowError\n",
    "# 2. ZeroDivisionError\n",
    "# 3. FloatingPointError\n",
    "\n",
    "# example of zero division error:-\n",
    "try:\n",
    "    n=10\n",
    "    m=0\n",
    "    result=n/m\n",
    "    print(result)\n",
    "except ZeroDivisionError as e:\n",
    "    print(e)\n",
    "    \n",
    "# example of overflowerror\n",
    "j=5.0\n",
    "try:\n",
    "    for i in range(1,1000):\n",
    "        j=j**i\n",
    "        print(j)\n",
    "except ArithmeticError as e:\n",
    "    print(e)"
   ]
  },
  {
   "cell_type": "markdown",
   "id": "9e990bb5-3da3-4d00-a830-9b749c1681df",
   "metadata": {},
   "source": [
    "# Answer-4"
   ]
  },
  {
   "cell_type": "code",
   "execution_count": null,
   "id": "892ae18c-0509-4f22-8864-bbb3143fae94",
   "metadata": {},
   "outputs": [],
   "source": [
    "The LookupError class is the base class for exceptions that are raised when a key or index is not found.\n",
    "It is a subclass of the Exception class in Python. LookupError itself does not get directly raised; rather,\n",
    "it serves as a common base class for more specific lookup-related exceptions.\n",
    "\n",
    "Two common subclasses of LookupError are KeyError and IndexError\n",
    "KeyError:\n",
    "\n",
    "Raised when a dictionary key is not found.\n",
    "\n",
    "Example:\n",
    "\n",
    "my_dict = {\"apple\": 3, \"banana\": 5, \"orange\": 2}\n",
    "\n",
    "try:\n",
    "    value = my_dict[\"grape\"]\n",
    "except KeyError as ke:\n",
    "    print(f\"KeyError: {ke}\")\n",
    "In this example, the key \"grape\" does not exist in the dictionary my_dict, so a KeyError is raised. \n",
    "The program catches the exception, and the error message will be printed.\n",
    "\n",
    "IndexError:\n",
    "\n",
    "Raised when a sequence subscript (index) is out of range.\n",
    "\n",
    "Example:\n",
    "my_list = [10, 20, 30]\n",
    "\n",
    "try:\n",
    "    value = my_list[5]\n",
    "except IndexError as ie:\n",
    "    print(f\"IndexError: {ie}\")\n"
   ]
  },
  {
   "cell_type": "markdown",
   "id": "f0f9a3d1-0009-440f-aaba-2c73f44bd18c",
   "metadata": {},
   "source": [
    "# Answer-5"
   ]
  },
  {
   "cell_type": "code",
   "execution_count": null,
   "id": "686745e7-c52a-42a9-baf6-1f20c74a8d6b",
   "metadata": {},
   "outputs": [],
   "source": [
    "ImportError and ModuleNotFoundError are both exceptions in Python that are related to importing modules.\n",
    "\n",
    "ImportError:\n",
    "\n",
    "ImportError is a base class for exceptions raised when an import statement fails.\n",
    "It is raised when the import statement cannot find the specified module, or when there is an issue during the import process.\n",
    "\n",
    "Example:\n",
    "\n",
    "try:\n",
    "    import non_existent_module\n",
    "except ImportError as ie:\n",
    "    print(f\"ImportError: {ie}\")\n",
    "In this example, the module non_existent_module does not exist, so attempting to import it raises an ImportError.\n",
    "\n",
    "ModuleNotFoundError:\n",
    "\n",
    "ModuleNotFoundError is a specific subclass of ImportError that is raised when a module could not be found during the import process.\n",
    "\n",
    "Example:\n",
    "\n",
    "try:\n",
    "    import non_existent_module\n",
    "except ModuleNotFoundError as mne:\n",
    "    print(f\"ModuleNotFoundError: {mne}\")\n",
    "This example is similar to the previous one, but here, we specifically catch ModuleNotFoundError."
   ]
  },
  {
   "cell_type": "markdown",
   "id": "f317d8dd-1a83-4ab0-bffd-ee1bf6d65153",
   "metadata": {},
   "source": [
    "# Answer-6"
   ]
  },
  {
   "cell_type": "code",
   "execution_count": null,
   "id": "8a202f8f-3ecd-4563-a916-1c38cf0b3a40",
   "metadata": {},
   "outputs": [],
   "source": [
    "Exception handling is a crucial aspect of writing robust and maintainable Python code. \n",
    "\n",
    "Use Specific Exceptions:\n",
    "Catch specific exceptions rather than using a generic Exception class. This makes your code more precise and helps in debugging.\n",
    "\n",
    "try:\n",
    "    # some code\n",
    "except ValueError as ve:\n",
    "    # handle ValueError\n",
    "except FileNotFoundError as fne:\n",
    "    # handle FileNotFoundError\n",
    "    \n",
    "Avoid Catching All Exceptions Unnecessarily:\n",
    "Avoid catching all exceptions (except:) unless absolutely necessary. Catching all exceptions can hide bugs and make debugging more challenging.\n",
    "\n",
    "Provide Descriptive Error Messages:\n",
    "Include informative error messages when raising or catching exceptions. This aids in understanding the cause of the exception.\n",
    "\n",
    "try:\n",
    "    # some code\n",
    "except ValueError as ve:\n",
    "    print(f\"Invalid value: {ve}\")\n",
    "    \n",
    "Separate Concerns:\n",
    "Separate the try-except blocks based on different concerns. This enhances code readability and makes it easier to maintain.\n",
    "\n",
    "Use finally for Cleanup:\n",
    "Use the finally block for code that should always be executed, whether an exception is raised or not (e.g., resource cleanup).\n",
    "\n",
    "try:\n",
    "    # some code\n",
    "except Exception as e:\n",
    "    # handle exception\n",
    "finally:\n",
    "    # cleanup code\n",
    "\n",
    "Avoid Bare except::\n",
    "Avoid using except: without specifying the exception type. This can catch unexpected exceptions and hide potential issues.\n",
    "Handle Specific Exceptions Locally:\n",
    "\n",
    "Handle exceptions as close to the source as possible. Avoid handling exceptions globally unless necessary for a particular use case.\n",
    "Avoid Using Exceptions for Flow Control:\n",
    "\n",
    "Exceptions should not be used for regular flow control. They are for exceptional, error-like conditions.\n",
    "Use Context Managers (with statement):\n",
    "\n",
    "Utilize context managers (e.g., with statement) for resource management.\n",
    "They automatically handle resource cleanup and reduce the need for explicit try-except-finally blocks.\n",
    "\n",
    "Log Exceptions:\n",
    "Consider logging exceptions to aid in debugging and monitoring. The logging module can be helpful for this purpose.\n",
    "Document Expected Exceptions:\n",
    "\n",
    "Document the exceptions that a function or method may raise. This helps other developers understand the expected behavior.\n",
    "Use raise to Re-Raise Exceptions:\n",
    "\n",
    "If you catch an exception but cannot handle it, use raise to re-raise the exception. This allows higher-level code to handle it.\n",
    "\n",
    "try:\n",
    "    # some code\n",
    "except ValueError as ve:\n",
    "    # unable to handle, re-raise\n",
    "    raise\n",
    "Adhering to these best practices can lead to more readable, maintainable, and robust code that gracefully handles errors and exceptions in a Python program.\n"
   ]
  }
 ],
 "metadata": {
  "kernelspec": {
   "display_name": "Python 3 (ipykernel)",
   "language": "python",
   "name": "python3"
  },
  "language_info": {
   "codemirror_mode": {
    "name": "ipython",
    "version": 3
   },
   "file_extension": ".py",
   "mimetype": "text/x-python",
   "name": "python",
   "nbconvert_exporter": "python",
   "pygments_lexer": "ipython3",
   "version": "3.10.8"
  }
 },
 "nbformat": 4,
 "nbformat_minor": 5
}
